{
  "nbformat": 4,
  "nbformat_minor": 0,
  "metadata": {
    "colab": {
      "provenance": []
    },
    "kernelspec": {
      "name": "python3",
      "display_name": "Python 3"
    },
    "language_info": {
      "name": "python"
    }
  },
  "cells": [
    {
      "cell_type": "markdown",
      "source": [
        "#Credit Card Fraud Detection"
      ],
      "metadata": {
        "id": "y74DGw8YR0fd"
      }
    },
    {
      "cell_type": "markdown",
      "source": [
        "## Objective\n",
        "Identify **fraudulent credit card transactions** using machine learning."
      ],
      "metadata": {
        "id": "VtKtDSsmR9Dp"
      }
    },
    {
      "cell_type": "markdown",
      "source": [
        "## Dataset Overview\n",
        "The dataset contains anonymized credit card transactions labeled as fraud or not.\n",
        "\n",
        "- `Time`, `Amount`, and anonymized features `V1` to `V28`\n",
        "- `Class`: 1 for fraud, 0 for non-fraud"
      ],
      "metadata": {
        "id": "HkK52sMqSDJK"
      }
    },
    {
      "cell_type": "markdown",
      "source": [
        "## Workflow\n",
        "1. Load and explore the dataset\n",
        "2. Handle class imbalance\n",
        "3. Feature scaling and model training\n",
        "4. Evaluate performance"
      ],
      "metadata": {
        "id": "UQg9YQ7gSH_O"
      }
    },
    {
      "cell_type": "code",
      "execution_count": 11,
      "metadata": {
        "colab": {
          "base_uri": "https://localhost:8080/"
        },
        "id": "7xO-HFwkRpJE",
        "outputId": "3447bd99-24c6-4c1e-83cf-a2afb9d006a4"
      },
      "outputs": [
        {
          "output_type": "stream",
          "name": "stdout",
          "text": [
            "<class 'pandas.core.frame.DataFrame'>\n",
            "RangeIndex: 128821 entries, 0 to 128820\n",
            "Data columns (total 31 columns):\n",
            " #   Column  Non-Null Count   Dtype  \n",
            "---  ------  --------------   -----  \n",
            " 0   Time    128821 non-null  int64  \n",
            " 1   V1      128821 non-null  float64\n",
            " 2   V2      128821 non-null  float64\n",
            " 3   V3      128821 non-null  float64\n",
            " 4   V4      128821 non-null  float64\n",
            " 5   V5      128821 non-null  float64\n",
            " 6   V6      128821 non-null  float64\n",
            " 7   V7      128821 non-null  float64\n",
            " 8   V8      128821 non-null  float64\n",
            " 9   V9      128821 non-null  float64\n",
            " 10  V10     128821 non-null  float64\n",
            " 11  V11     128821 non-null  float64\n",
            " 12  V12     128821 non-null  float64\n",
            " 13  V13     128821 non-null  float64\n",
            " 14  V14     128821 non-null  float64\n",
            " 15  V15     128821 non-null  float64\n",
            " 16  V16     128820 non-null  float64\n",
            " 17  V17     128820 non-null  float64\n",
            " 18  V18     128820 non-null  float64\n",
            " 19  V19     128820 non-null  float64\n",
            " 20  V20     128820 non-null  float64\n",
            " 21  V21     128820 non-null  float64\n",
            " 22  V22     128820 non-null  float64\n",
            " 23  V23     128820 non-null  float64\n",
            " 24  V24     128820 non-null  float64\n",
            " 25  V25     128820 non-null  float64\n",
            " 26  V26     128820 non-null  float64\n",
            " 27  V27     128820 non-null  float64\n",
            " 28  V28     128820 non-null  float64\n",
            " 29  Amount  128820 non-null  float64\n",
            " 30  Class   128820 non-null  float64\n",
            "dtypes: float64(30), int64(1)\n",
            "memory usage: 30.5 MB\n"
          ]
        },
        {
          "output_type": "execute_result",
          "data": {
            "text/plain": [
              "(None,\n",
              "    Time        V1        V2        V3        V4        V5        V6        V7  \\\n",
              " 0     0 -1.359807 -0.072781  2.536347  1.378155 -0.338321  0.462388  0.239599   \n",
              " 1     0  1.191857  0.266151  0.166480  0.448154  0.060018 -0.082361 -0.078803   \n",
              " 2     1 -1.358354 -1.340163  1.773209  0.379780 -0.503198  1.800499  0.791461   \n",
              " 3     1 -0.966272 -0.185226  1.792993 -0.863291 -0.010309  1.247203  0.237609   \n",
              " 4     2 -1.158233  0.877737  1.548718  0.403034 -0.407193  0.095921  0.592941   \n",
              " \n",
              "          V8        V9  ...       V21       V22       V23       V24       V25  \\\n",
              " 0  0.098698  0.363787  ... -0.018307  0.277838 -0.110474  0.066928  0.128539   \n",
              " 1  0.085102 -0.255425  ... -0.225775 -0.638672  0.101288 -0.339846  0.167170   \n",
              " 2  0.247676 -1.514654  ...  0.247998  0.771679  0.909412 -0.689281 -0.327642   \n",
              " 3  0.377436 -1.387024  ... -0.108300  0.005274 -0.190321 -1.175575  0.647376   \n",
              " 4 -0.270533  0.817739  ... -0.009431  0.798278 -0.137458  0.141267 -0.206010   \n",
              " \n",
              "         V26       V27       V28  Amount  Class  \n",
              " 0 -0.189115  0.133558 -0.021053  149.62    0.0  \n",
              " 1  0.125895 -0.008983  0.014724    2.69    0.0  \n",
              " 2 -0.139097 -0.055353 -0.059752  378.66    0.0  \n",
              " 3 -0.221929  0.062723  0.061458  123.50    0.0  \n",
              " 4  0.502292  0.219422  0.215153   69.99    0.0  \n",
              " \n",
              " [5 rows x 31 columns])"
            ]
          },
          "metadata": {},
          "execution_count": 11
        }
      ],
      "source": [
        "import pandas as pd\n",
        "\n",
        "# Load the dataset\n",
        "file_path = \"/content/creditcard.csv\"\n",
        "df = pd.read_csv(file_path)\n",
        "\n",
        "info = df.info()\n",
        "head = df.head()\n",
        "\n",
        "info, head"
      ]
    },
    {
      "cell_type": "markdown",
      "source": [
        "## Exploratory Data Analysis"
      ],
      "metadata": {
        "id": "r2fByktiTicc"
      }
    },
    {
      "cell_type": "code",
      "source": [
        "import matplotlib.pyplot as plt\n",
        "import seaborn as sns\n",
        "\n",
        "# Count of fraud vs non-fraud transactions\n",
        "fraud_counts = df['Class'].value_counts()\n",
        "\n",
        "corr_matrix = df.corr()\n",
        "\n",
        "plt.figure(figsize=(14, 6))\n",
        "\n",
        "plt.subplot(1, 2, 1)\n",
        "sns.barplot(x=fraud_counts.index, y=fraud_counts.values, palette='pastel')\n",
        "plt.title(\"Fraud vs Non-Fraud Transaction Counts\")\n",
        "plt.xticks([0, 1], ['Non-Fraud (0)', 'Fraud (1)'])\n",
        "plt.ylabel(\"Count\")\n",
        "\n",
        "# Correlation heatmap\n",
        "plt.subplot(1, 2, 2)\n",
        "sns.heatmap(corr_matrix, cmap='coolwarm', center=0, square=True, cbar_kws={'shrink': 0.5}, xticklabels=False, yticklabels=False)\n",
        "plt.title(\"Correlation Heatmap\")\n",
        "\n",
        "plt.tight_layout()\n",
        "plt.show()\n"
      ],
      "metadata": {
        "colab": {
          "base_uri": "https://localhost:8080/",
          "height": 567
        },
        "id": "_kn429cvSiB7",
        "outputId": "0e90c2a6-6762-4ce5-9032-7ea6de1fca63"
      },
      "execution_count": 5,
      "outputs": [
        {
          "output_type": "stream",
          "name": "stderr",
          "text": [
            "/tmp/ipython-input-5-944271289.py:12: FutureWarning: \n",
            "\n",
            "Passing `palette` without assigning `hue` is deprecated and will be removed in v0.14.0. Assign the `x` variable to `hue` and set `legend=False` for the same effect.\n",
            "\n",
            "  sns.barplot(x=fraud_counts.index, y=fraud_counts.values, palette='pastel')\n"
          ]
        },
        {
          "output_type": "display_data",
          "data": {
            "text/plain": [
              "<Figure size 1400x600 with 3 Axes>"
            ],
            "image/png": "[encoded data removed]"
          },
          "metadata": {}
        }
      ]
    },
    {
      "cell_type": "markdown",
      "source": [
        "## Data Preprocessing"
      ],
      "metadata": {
        "id": "SOieGNaqTtv8"
      }
    },
    {
      "cell_type": "code",
      "source": [
        "from sklearn.preprocessing import StandardScaler\n",
        "scaler = StandardScaler()\n",
        "\n",
        "# Feature scaling for 'Amount' and 'Time'\n",
        "df['scaled_Amount'] = scaler.fit_transform(df[['Amount']])\n",
        "df['scaled_Time'] = scaler.fit_transform(df[['Time']])\n",
        "\n",
        "# Drop original\n",
        "df.drop(['Amount', 'Time'], axis=1, inplace=True)\n",
        "\n",
        "# Rearranging columns\n",
        "columns = ['scaled_Time', 'scaled_Amount'] + [col for col in df.columns if col not in ['scaled_Time', 'scaled_Amount', 'Class']] + ['Class']\n",
        "df = df[columns]\n",
        "\n",
        "df.columns.tolist()\n"
      ],
      "metadata": {
        "colab": {
          "base_uri": "https://localhost:8080/"
        },
        "id": "CEVJjPWZTBJE",
        "outputId": "5b4a30db-193d-488c-e94d-bc50d0820d82"
      },
      "execution_count": 12,
      "outputs": [
        {
          "output_type": "execute_result",
          "data": {
            "text/plain": [
              "['scaled_Time',\n",
              " 'scaled_Amount',\n",
              " 'V1',\n",
              " 'V2',\n",
              " 'V3',\n",
              " 'V4',\n",
              " 'V5',\n",
              " 'V6',\n",
              " 'V7',\n",
              " 'V8',\n",
              " 'V9',\n",
              " 'V10',\n",
              " 'V11',\n",
              " 'V12',\n",
              " 'V13',\n",
              " 'V14',\n",
              " 'V15',\n",
              " 'V16',\n",
              " 'V17',\n",
              " 'V18',\n",
              " 'V19',\n",
              " 'V20',\n",
              " 'V21',\n",
              " 'V22',\n",
              " 'V23',\n",
              " 'V24',\n",
              " 'V25',\n",
              " 'V26',\n",
              " 'V27',\n",
              " 'V28',\n",
              " 'Class']"
            ]
          },
          "metadata": {},
          "execution_count": 12
        }
      ]
    },
    {
      "cell_type": "markdown",
      "source": [
        "## Model Training"
      ],
      "metadata": {
        "id": "9CiDhJWrUXXT"
      }
    },
    {
      "cell_type": "code",
      "source": [
        "import pandas as pd\n",
        "from sklearn.model_selection import train_test_split\n",
        "\n",
        "df = df.dropna(subset=['Class'])\n",
        "\n",
        "X = df.drop('Class', axis=1)\n",
        "y = df['Class']\n",
        "\n",
        "print(\"Unique values in y:\", y.unique())\n",
        "\n",
        "# Ensure target is of correct type\n",
        "y = y.astype(int)\n",
        "\n",
        "# Perform stratified train-test split\n",
        "X_train, X_test, y_train, y_test = train_test_split(\n",
        "    X, y,\n",
        "    test_size=0.3,\n",
        "    random_state=42,\n",
        "    stratify=y\n",
        ")\n",
        "\n",
        "print(\"X_train shape:\", X_train.shape)\n",
        "print(\"X_test shape:\", X_test.shape)\n",
        "print(\"y_train distribution:\\n\", y_train.value_counts(normalize=True))\n",
        "print(\"y_test distribution:\\n\", y_test.value_counts(normalize=True))\n"
      ],
      "metadata": {
        "colab": {
          "base_uri": "https://localhost:8080/"
        },
        "id": "cBfOaJ6CUZgd",
        "outputId": "c312fcc2-a3af-411e-9b95-498725539427"
      },
      "execution_count": 17,
      "outputs": [
        {
          "output_type": "stream",
          "name": "stdout",
          "text": [
            "Unique values in y: [0. 1.]\n",
            "X_train shape: (90174, 30)\n",
            "X_test shape: (38646, 30)\n",
            "y_train distribution:\n",
            " Class\n",
            "0    0.997971\n",
            "1    0.002029\n",
            "Name: proportion, dtype: float64\n",
            "y_test distribution:\n",
            " Class\n",
            "0    0.997982\n",
            "1    0.002018\n",
            "Name: proportion, dtype: float64\n"
          ]
        }
      ]
    },
    {
      "cell_type": "code",
      "source": [
        "from sklearn.linear_model import LogisticRegression\n",
        "\n",
        "# Logistic Regression\n",
        "model = LogisticRegression(solver='saga', max_iter=1000, random_state=42)\n",
        "\n",
        "model.fit(X_train, y_train)\n",
        "\n",
        "print(\"Model training complete.\")\n",
        "print(\"Intercept:\", model.intercept_)\n",
        "print(\"Number of coefficients:\", len(model.coef_[0]))\n"
      ],
      "metadata": {
        "colab": {
          "base_uri": "https://localhost:8080/"
        },
        "id": "ecqauvWzbgjd",
        "outputId": "5f85b10c-c1e8-4081-d400-23fe7685dde3"
      },
      "execution_count": 18,
      "outputs": [
        {
          "output_type": "stream",
          "name": "stdout",
          "text": [
            "Model training complete.\n",
            "Intercept: [-8.27842696]\n",
            "Number of coefficients: 30\n"
          ]
        },
        {
          "output_type": "stream",
          "name": "stderr",
          "text": [
            "/usr/local/lib/python3.11/dist-packages/sklearn/linear_model/_sag.py:348: ConvergenceWarning: The max_iter was reached which means the coef_ did not converge\n",
            "  warnings.warn(\n"
          ]
        }
      ]
    },
    {
      "cell_type": "code",
      "source": [
        "from sklearn.metrics import confusion_matrix, classification_report\n",
        "\n",
        "y_pred = model.predict(X_test)\n",
        "\n",
        "# Confusion matrix\n",
        "print(\"Confusion Matrix:\")\n",
        "print(confusion_matrix(y_test, y_pred))\n",
        "\n",
        "# Classification report\n",
        "print(\"\\nClassification Report:\")\n",
        "print(classification_report(y_test, y_pred, digits=4))\n"
      ],
      "metadata": {
        "colab": {
          "base_uri": "https://localhost:8080/"
        },
        "id": "n8vgPvNqbcqm",
        "outputId": "9a6130fb-7223-4880-d7ee-595e0388aeaa"
      },
      "execution_count": 19,
      "outputs": [
        {
          "output_type": "stream",
          "name": "stdout",
          "text": [
            "Confusion Matrix:\n",
            "[[38554    14]\n",
            " [   39    39]]\n",
            "\n",
            "Classification Report:\n",
            "              precision    recall  f1-score   support\n",
            "\n",
            "           0     0.9990    0.9996    0.9993     38568\n",
            "           1     0.7358    0.5000    0.5954        78\n",
            "\n",
            "    accuracy                         0.9986     38646\n",
            "   macro avg     0.8674    0.7498    0.7974     38646\n",
            "weighted avg     0.9985    0.9986    0.9985     38646\n",
            "\n"
          ]
        }
      ]
    }
  ]
}